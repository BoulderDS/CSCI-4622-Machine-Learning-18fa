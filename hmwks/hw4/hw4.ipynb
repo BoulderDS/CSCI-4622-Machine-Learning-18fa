{
 "cells": [
  {
   "cell_type": "markdown",
   "metadata": {},
   "source": [
    "# Homework 4: SVM\n",
    "\n",
    "\n",
    "This assignment is due on Moodle by **11:59pm on Friday November 2**. \n",
    "Your solutions to theoretical questions should be done in Markdown/MathJax directly below the associated question.\n",
    "Your solutions to computational questions should include any specified Python code and results \n",
    "as well as written commentary on your conclusions.\n",
    "Remember that you are encouraged to discuss the problems with your instructors and classmates, \n",
    "but **you must write all code and solutions on your own**. For a refresher on the course **Collaboration Policy** click [here](https://github.com/BoulderDS/CSCI-4622-Machine-Learning-18fa/blob/master/info/syllabus.md#collaboration-policy).\n",
    "\n",
    "**NOTES**: \n",
    "\n",
    "- Do **NOT** load or use any Python packages that are not available in Anaconda 3.6. \n",
    "- Some problems with code may be autograded.  If we provide a function API **do not** change it.  If we do not provide a function API then you're free to structure your code however you like. \n",
    "- Submit only this Jupyter notebook to Moodle.  Do not compress it using tar, rar, zip, etc. \n"
   ]
  },
  {
   "cell_type": "markdown",
   "metadata": {},
   "source": [
    "Name: "
   ]
  },
  {
   "cell_type": "code",
   "execution_count": null,
   "metadata": {},
   "outputs": [],
   "source": [
    "import math\n",
    "import pickle\n",
    "import gzip\n",
    "import numpy as np\n",
    "import pandas\n",
    "import matplotlib.pylab as plt\n",
    "%matplotlib inline"
   ]
  },
  {
   "cell_type": "markdown",
   "metadata": {},
   "source": [
    "In this homework you'll explore the primal and dual representations of support vector machines,\n",
    "as well as explore the performance of various kernels while classifying sentiments."
   ]
  },
  {
   "cell_type": "markdown",
   "metadata": {},
   "source": [
    "[50 Points] Problem 1 - Basic concepts of SVM\n",
    "---\n",
    "\n",
    "**Part A**: \n",
    "* What are the main differences between the primal and the dual representations?\n",
    "* For $\\xi$, $C$, $\\alpha$, and $\\beta$, what is their role and if there is a special value what is the value and what does it mean?"
   ]
  },
  {
   "cell_type": "markdown",
   "metadata": {
    "collapsed": true,
    "deletable": false,
    "nbgrader": {
     "checksum": "17ad2a9bbee546deccd82b3da4d9093e",
     "grade": true,
     "grade_id": "cell-f177349aed9aabcf",
     "locked": false,
     "points": 15,
     "schema_version": 1,
     "solution": true
    }
   },
   "source": [
    "YOUR ANSWER HERE"
   ]
  },
  {
   "cell_type": "markdown",
   "metadata": {},
   "source": [
    "**PART B**: \n",
    "\n",
    " * Given a weight vector, implement the *find_support* function that returns the indices of the support vectors.\n",
    " * Given a weight vector, implement the *find_slack* function that returns the indices of the vectors with nonzero slack.\n",
    " * Given the alpha dual vector, implement the *weight_vector* function that returns the corresponding weight vector."
   ]
  },
  {
   "cell_type": "code",
   "execution_count": null,
   "metadata": {
    "deletable": false,
    "nbgrader": {
     "checksum": "f9819411bf28b6114759d3be6ef4d20f",
     "grade": false,
     "grade_id": "cell-14c104d96c00c2eb",
     "locked": false,
     "schema_version": 1,
     "solution": true
    }
   },
   "outputs": [],
   "source": [
    "import numpy as np\n",
    "\n",
    "kINSP = np.array([(1, 8, +1),\n",
    "               (7, 2, -1),\n",
    "               (6, -1, -1),\n",
    "               (-5, 0, +1),\n",
    "               (-5, 1, -1),\n",
    "               (-5, 2, +1),\n",
    "               (6, 3, +1),\n",
    "               (6, 1, -1),\n",
    "               (5, 2, -1)])\n",
    "\n",
    "kSEP = np.array([(-2, 2, +1),    # 0 - A\n",
    "              (0, 4, +1),     # 1 - B\n",
    "              (2, 1, +1),     # 2 - C\n",
    "              (-2, -3, -1),   # 3 - D\n",
    "              (0, -1, -1),    # 4 - E\n",
    "              (2, -3, -1),    # 5 - F\n",
    "              ])\n",
    "\n",
    "\n",
    "def weight_vector(x, y, alpha):\n",
    "    \"\"\"\n",
    "    Given a vector of alphas, compute the primal weight vector w.\n",
    "    The vector w should be returned as an Numpy array.\n",
    "    \"\"\"\n",
    "\n",
    "    w = np.zeros(len(x[0]))\n",
    "    # YOUR CODE HERE\n",
    "    raise NotImplementedError()\n",
    "    return w\n",
    "\n",
    "\n",
    "\n",
    "def find_support(x, y, w, b, tolerance=0.001):\n",
    "    \"\"\"\n",
    "    Given a set of training examples and primal weights, return the indices\n",
    "    of all of the support vectors as a set.\n",
    "    \"\"\"\n",
    "\n",
    "    support = set()\n",
    "    # YOUR CODE HERE\n",
    "    raise NotImplementedError()\n",
    "    return support\n",
    "\n",
    "\n",
    "\n",
    "def find_slack(x, y, w, b):\n",
    "    \"\"\"\n",
    "    Given a set of training examples and primal weights, return the indices\n",
    "    of all examples with nonzero slack as a set.\n",
    "    \"\"\"\n",
    "\n",
    "    slack = set()\n",
    "    # YOUR CODE HERE\n",
    "    raise NotImplementedError()\n",
    "    return slack"
   ]
  },
  {
   "cell_type": "code",
   "execution_count": null,
   "metadata": {
    "deletable": false,
    "editable": false,
    "nbgrader": {
     "checksum": "ac70e6c01a6d463c705fce3657daeb77",
     "grade": true,
     "grade_id": "cell-3c7d7f432578009e",
     "locked": true,
     "points": 20,
     "schema_version": 1,
     "solution": false
    }
   },
   "outputs": [],
   "source": [
    "%run -i tests/tests.py"
   ]
  },
  {
   "cell_type": "markdown",
   "metadata": {},
   "source": [
    "**PART C**\n",
    "\n",
    "The goal of this problem is to correctly classify test data points, given a training data set.\n",
    "For this problem, assume that we are training an SVM with a quadratic kernel– that is, our kernel function is a polynomial kernel of degree 2. You are given the data set presented in Figure 1. The slack penalty C will determine the location of the decision boundary.\n",
    "\n",
    "Justify the following questions in a sentence or via drawing decision boundary.\n",
    "![training_data](./data/data.png)\n",
    "\n",
    "* Where would the decision boundary be for very large values of C ?\n",
    "* Where you would expect the decision boundary to be if  C = 0 ?\n",
    "* Which of the two cases above would you expect to generalize better on test data? Why?"
   ]
  },
  {
   "cell_type": "markdown",
   "metadata": {
    "deletable": false,
    "nbgrader": {
     "checksum": "14587983929cbe06427a6f5fc256be7d",
     "grade": true,
     "grade_id": "cell-02406ba497be1623",
     "locked": false,
     "points": 15,
     "schema_version": 1,
     "solution": true
    }
   },
   "source": [
    "YOUR ANSWER HERE"
   ]
  },
  {
   "cell_type": "markdown",
   "metadata": {},
   "source": [
    "[50 points] Problem 2 -- SVM with Sklearn\n",
    "---\n",
    "\n",
    "In this problem, you are going to get familiar with important practical functions in scikit-learn such as pipeline, grid search, and cross validation. You will experiment with these using support vector machines.\n",
    "\n",
    "Note that grid search can take some time on your laptop, so make sure that your code is correct with a small subset of the training data and search a reasonable number of options.\n",
    "\n",
    "* Use the Sklearn implementation of support vector machines to train a classifier to distinguish Positive and negative sentiments\n",
    "* Experiment with linear, polynomial, and RBF kernels. In each case, perform a GridSearch to help determine optimal hyperparameters for the given model (e.g. C for linear kernel, C and p for polynomial kernel, and C and  for RBF). Comment on the experiments you ran and optimal hyperparameters you found.\n",
    "Hint: http://scikit-learn.org/stable/modules/grid_search.html\n",
    "* Comment on classification performance for each model for optimal parameters by testing on a hold-out set."
   ]
  },
  {
   "cell_type": "markdown",
   "metadata": {},
   "source": [
    "Following is a dataset containing reviews and sentiments associated with it.\n",
    "\n",
    "Create a SVM Classifier to predict positive or negative sentiments"
   ]
  },
  {
   "cell_type": "code",
   "execution_count": null,
   "metadata": {},
   "outputs": [],
   "source": [
    "import pandas as pd\n",
    "from sklearn.model_selection import train_test_split, StratifiedKFold\n",
    "reviews  = pd.read_csv('./data/reviews.csv')\n",
    "train, test = train_test_split(reviews, test_size=0.2, random_state=4622)\n",
    "X_train = train['reviews'].values\n",
    "X_test = test['reviews'].values\n",
    "y_train = train['sentiment']\n",
    "y_test = test['sentiment']"
   ]
  },
  {
   "cell_type": "code",
   "execution_count": null,
   "metadata": {},
   "outputs": [],
   "source": [
    "len(X_train),sum(y_train),len(X_test),sum(y_test)"
   ]
  },
  {
   "cell_type": "code",
   "execution_count": null,
   "metadata": {},
   "outputs": [],
   "source": [
    "import nltk\n",
    "from nltk.corpus import stopwords\n",
    "from nltk.tokenize import TweetTokenizer\n",
    "from sklearn.feature_extraction.text import CountVectorizer\n",
    "from sklearn.svm import SVC\n",
    "from sklearn.pipeline import make_pipeline, Pipeline\n",
    "from sklearn.model_selection import GridSearchCV\n",
    "from sklearn.metrics import accuracy_score, f1_score\n",
    "from sklearn.metrics import confusion_matrix, roc_auc_score, recall_score, precision_score"
   ]
  },
  {
   "cell_type": "markdown",
   "metadata": {},
   "source": [
    "**PART A**\n",
    "\n",
    "Use CountVectorizer to vectorize reviews as dictionary of term frequencies.\n",
    "Define the crossvalidation split using StratifiedKFold."
   ]
  },
  {
   "cell_type": "code",
   "execution_count": null,
   "metadata": {
    "deletable": false,
    "nbgrader": {
     "checksum": "64899a0f9ff6f6b41457a00e1e800d57",
     "grade": true,
     "grade_id": "cell-ab58d371c35713b4",
     "locked": false,
     "points": 10,
     "schema_version": 1,
     "solution": true
    }
   },
   "outputs": [],
   "source": [
    "def tokenize(text): \n",
    "    tknzr = TweetTokenizer()\n",
    "    return tknzr.tokenize(text)\n",
    "\n",
    "en_stopwords = set(stopwords.words(\"english\")) \n",
    "\n",
    "# CREATE CountVectorizer using sklearn.feature_extraction.text.CountVectorizer\n",
    "# Hint: use the above tokenize function\n",
    "# Hint: play with different parameters, in particular, min_df can help with generalizability\n",
    "# YOUR CODE HERE\n",
    "raise NotImplementedError()\n",
    "\n",
    "# split dataset using StratifiedKFold into 5 splits using sklearn.model_selection.StratifiedKFold.\n",
    "# YOUR CODE HERE\n",
    "raise NotImplementedError()"
   ]
  },
  {
   "cell_type": "markdown",
   "metadata": {},
   "source": [
    "**PART B**\n",
    "* Create pipeline with Count Vectorizer and SVM Classifier\n",
    "* Define grid search parameters\n",
    "* Create GridSearchCV object with pipeline created and fit the data.\n",
    "* Compute accuracy on best estimator from GridSearchCV"
   ]
  },
  {
   "cell_type": "code",
   "execution_count": null,
   "metadata": {
    "deletable": false,
    "nbgrader": {
     "checksum": "6e9d3128b56a233b0cfec29e0386fae1",
     "grade": true,
     "grade_id": "cell-566701928c0de790",
     "locked": false,
     "points": 10,
     "schema_version": 1,
     "solution": true
    }
   },
   "outputs": [],
   "source": [
    "# DEFINE GRID SEARCH PARAMETERS kernel, C, degree, gamma respectively\n",
    "# YOUR CODE HERE\n",
    "raise NotImplementedError()"
   ]
  },
  {
   "cell_type": "code",
   "execution_count": null,
   "metadata": {
    "deletable": false,
    "nbgrader": {
     "checksum": "2ec8874c31a93444620508a810a58bc6",
     "grade": true,
     "grade_id": "cell-a3dd5b25a9ce8feb",
     "locked": false,
     "points": 20,
     "schema_version": 1,
     "solution": true
    }
   },
   "outputs": [],
   "source": [
    "np.random.seed(1234)\n",
    "# Define pipeline using make_pipeline with vectorizer and SVM Classifier\n",
    "# YOUR CODE HERE\n",
    "raise NotImplementedError()\n",
    "\n",
    "# Create GridSearchCV with pipeline and grid search parameters, scoring as accuracy.\n",
    "# for example grid_svm = GridSearchCV(pipeline, param_grid, cv, scoring=\"accuracy\")\n",
    "\n",
    "# YOUR CODE HERE\n",
    "raise NotImplementedError()\n",
    "\n",
    "# For debugging purposes, it makes sense to use a smaller set of training set to speed up the grid search progress\n",
    "grid_svm.fit(X_train, y_train)"
   ]
  },
  {
   "cell_type": "code",
   "execution_count": null,
   "metadata": {},
   "outputs": [],
   "source": [
    "print(\"best params:\")\n",
    "print(grid_svm.best_params_)\n",
    "\n",
    "print(\"best cv score:\")\n",
    "print(grid_svm.best_score_)"
   ]
  },
  {
   "cell_type": "code",
   "execution_count": null,
   "metadata": {},
   "outputs": [],
   "source": [
    "def report_results(model, X, y):\n",
    "    pred = model.predict(X)        \n",
    "    acc = accuracy_score(y, pred)\n",
    "    f1 = f1_score(y, pred)\n",
    "    prec = precision_score(y, pred)\n",
    "    rec = recall_score(y, pred)\n",
    "    result = {'f1': f1, 'acc': acc, 'precision': prec, 'recall': rec}\n",
    "    return result"
   ]
  },
  {
   "cell_type": "code",
   "execution_count": null,
   "metadata": {},
   "outputs": [],
   "source": [
    "report_results(grid_svm.best_estimator_, X_test, y_test)"
   ]
  },
  {
   "cell_type": "markdown",
   "metadata": {},
   "source": [
    "**PART C**\n",
    "\n",
    "Explain the overall procedure and report the final result that you obtain including which kernel and hyperparameter was chosen."
   ]
  },
  {
   "cell_type": "markdown",
   "metadata": {
    "deletable": false,
    "nbgrader": {
     "checksum": "518aa09b353c4f15f8aebb399798d88a",
     "grade": true,
     "grade_id": "cell-6fecb92ed6ad5abe",
     "locked": false,
     "points": 10,
     "schema_version": 1,
     "solution": true
    }
   },
   "source": [
    "YOUR ANSWER HERE"
   ]
  },
  {
   "cell_type": "code",
   "execution_count": null,
   "metadata": {},
   "outputs": [],
   "source": []
  }
 ],
 "metadata": {
  "kernelspec": {
   "display_name": "Python 3",
   "language": "python",
   "name": "python3"
  },
  "language_info": {
   "codemirror_mode": {
    "name": "ipython",
    "version": 3
   },
   "file_extension": ".py",
   "mimetype": "text/x-python",
   "name": "python",
   "nbconvert_exporter": "python",
   "pygments_lexer": "ipython3",
   "version": "3.6.2"
  }
 },
 "nbformat": 4,
 "nbformat_minor": 2
}
